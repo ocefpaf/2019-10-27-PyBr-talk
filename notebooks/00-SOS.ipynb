{
 "cells": [
  {
   "cell_type": "code",
   "execution_count": 1,
   "metadata": {
    "slideshow": {
     "slide_type": "slide"
    }
   },
   "outputs": [
    {
     "name": "stdout",
     "output_type": "stream",
     "text": [
      "https://opendap.co-ops.nos.noaa.gov/ioos-dif-sos/SOS?service=SOS&request=GetObservation&version=1.0.0&observedProperty=water_surface_height_above_reference_datum&offering=urn:ioos:station:NOAA.NOS.CO-OPS:8771450&responseFormat=text/csv&eventTime=2019-10-14T00:00:00Z/2019-10-15T00:00:00Z&result=VerticalDatum==urn:ogc:def:datum:epsg::5103&dataType=PreliminarySixMinute\n"
     ]
    }
   ],
   "source": [
    "import pendulum\n",
    "\n",
    "\n",
    "variable = \"water_surface_height_above_reference_datum\"\n",
    "today = pendulum.today(tz=\"UTC\")\n",
    "yesterday = today.subtract(days=1)\n",
    "\n",
    "buoy = \"8771450\"\n",
    "\n",
    "url = (\n",
    "    \"https://opendap.co-ops.nos.noaa.gov/ioos-dif-sos/SOS?\"\n",
    "    \"service=SOS\"\n",
    "    \"&request=GetObservation\"\n",
    "    \"&version=1.0.0\"\n",
    "    f\"&observedProperty={variable}\"\n",
    "    f\"&offering=urn:ioos:station:NOAA.NOS.CO-OPS:{buoy}\"\n",
    "    \"&responseFormat=text/csv\"\n",
    "    f\"&eventTime={yesterday:%Y-%m-%dT%H:%M:%SZ}/\"\n",
    "    f\"{today:%Y-%m-%dT%H:%M:%SZ}\"\n",
    "    \"&result=VerticalDatum==urn:ogc:def:datum:epsg::5103\"\n",
    "    \"&dataType=PreliminarySixMinute\"\n",
    ")\n",
    "\n",
    "print(url)"
   ]
  },
  {
   "cell_type": "code",
   "execution_count": 2,
   "metadata": {
    "slideshow": {
     "slide_type": "slide"
    }
   },
   "outputs": [
    {
     "data": {
      "text/html": [
       "<div>\n",
       "<style scoped>\n",
       "    .dataframe tbody tr th:only-of-type {\n",
       "        vertical-align: middle;\n",
       "    }\n",
       "\n",
       "    .dataframe tbody tr th {\n",
       "        vertical-align: top;\n",
       "    }\n",
       "\n",
       "    .dataframe thead th {\n",
       "        text-align: right;\n",
       "    }\n",
       "</style>\n",
       "<table border=\"1\" class=\"dataframe\">\n",
       "  <thead>\n",
       "    <tr style=\"text-align: right;\">\n",
       "      <th></th>\n",
       "      <th>station_id</th>\n",
       "      <th>sensor_id</th>\n",
       "      <th>latitude (degree)</th>\n",
       "      <th>longitude (degree)</th>\n",
       "      <th>water_surface_height_above_reference_datum (m)</th>\n",
       "      <th>datum_id</th>\n",
       "      <th>vertical_position (m)</th>\n",
       "      <th>sigma</th>\n",
       "      <th>quality_flags</th>\n",
       "    </tr>\n",
       "    <tr>\n",
       "      <th>date_time</th>\n",
       "      <th></th>\n",
       "      <th></th>\n",
       "      <th></th>\n",
       "      <th></th>\n",
       "      <th></th>\n",
       "      <th></th>\n",
       "      <th></th>\n",
       "      <th></th>\n",
       "      <th></th>\n",
       "    </tr>\n",
       "  </thead>\n",
       "  <tbody>\n",
       "    <tr>\n",
       "      <td>2019-10-14 00:00:00+00:00</td>\n",
       "      <td>urn:ioos:station:NOAA.NOS.CO-OPS:8771450</td>\n",
       "      <td>urn:ioos:sensor:NOAA.NOS.CO-OPS:8771450:A1</td>\n",
       "      <td>29.31</td>\n",
       "      <td>-94.7933</td>\n",
       "      <td>0.745</td>\n",
       "      <td>urn:ogc:def:datum:epsg::5103</td>\n",
       "      <td>1.379</td>\n",
       "      <td>0.004</td>\n",
       "      <td>1;0;0;0</td>\n",
       "    </tr>\n",
       "    <tr>\n",
       "      <td>2019-10-14 00:06:00+00:00</td>\n",
       "      <td>urn:ioos:station:NOAA.NOS.CO-OPS:8771450</td>\n",
       "      <td>urn:ioos:sensor:NOAA.NOS.CO-OPS:8771450:A1</td>\n",
       "      <td>29.31</td>\n",
       "      <td>-94.7933</td>\n",
       "      <td>0.741</td>\n",
       "      <td>urn:ogc:def:datum:epsg::5103</td>\n",
       "      <td>1.379</td>\n",
       "      <td>0.004</td>\n",
       "      <td>1;0;0;0</td>\n",
       "    </tr>\n",
       "    <tr>\n",
       "      <td>2019-10-14 00:12:00+00:00</td>\n",
       "      <td>urn:ioos:station:NOAA.NOS.CO-OPS:8771450</td>\n",
       "      <td>urn:ioos:sensor:NOAA.NOS.CO-OPS:8771450:A1</td>\n",
       "      <td>29.31</td>\n",
       "      <td>-94.7933</td>\n",
       "      <td>0.750</td>\n",
       "      <td>urn:ogc:def:datum:epsg::5103</td>\n",
       "      <td>1.379</td>\n",
       "      <td>0.005</td>\n",
       "      <td>0;0;0;0</td>\n",
       "    </tr>\n",
       "    <tr>\n",
       "      <td>2019-10-14 00:18:00+00:00</td>\n",
       "      <td>urn:ioos:station:NOAA.NOS.CO-OPS:8771450</td>\n",
       "      <td>urn:ioos:sensor:NOAA.NOS.CO-OPS:8771450:A1</td>\n",
       "      <td>29.31</td>\n",
       "      <td>-94.7933</td>\n",
       "      <td>0.747</td>\n",
       "      <td>urn:ogc:def:datum:epsg::5103</td>\n",
       "      <td>1.379</td>\n",
       "      <td>0.004</td>\n",
       "      <td>1;0;0;0</td>\n",
       "    </tr>\n",
       "    <tr>\n",
       "      <td>2019-10-14 00:24:00+00:00</td>\n",
       "      <td>urn:ioos:station:NOAA.NOS.CO-OPS:8771450</td>\n",
       "      <td>urn:ioos:sensor:NOAA.NOS.CO-OPS:8771450:A1</td>\n",
       "      <td>29.31</td>\n",
       "      <td>-94.7933</td>\n",
       "      <td>0.747</td>\n",
       "      <td>urn:ogc:def:datum:epsg::5103</td>\n",
       "      <td>1.379</td>\n",
       "      <td>0.003</td>\n",
       "      <td>1;0;0;0</td>\n",
       "    </tr>\n",
       "  </tbody>\n",
       "</table>\n",
       "</div>"
      ],
      "text/plain": [
       "                                                         station_id  \\\n",
       "date_time                                                             \n",
       "2019-10-14 00:00:00+00:00  urn:ioos:station:NOAA.NOS.CO-OPS:8771450   \n",
       "2019-10-14 00:06:00+00:00  urn:ioos:station:NOAA.NOS.CO-OPS:8771450   \n",
       "2019-10-14 00:12:00+00:00  urn:ioos:station:NOAA.NOS.CO-OPS:8771450   \n",
       "2019-10-14 00:18:00+00:00  urn:ioos:station:NOAA.NOS.CO-OPS:8771450   \n",
       "2019-10-14 00:24:00+00:00  urn:ioos:station:NOAA.NOS.CO-OPS:8771450   \n",
       "\n",
       "                                                            sensor_id  \\\n",
       "date_time                                                               \n",
       "2019-10-14 00:00:00+00:00  urn:ioos:sensor:NOAA.NOS.CO-OPS:8771450:A1   \n",
       "2019-10-14 00:06:00+00:00  urn:ioos:sensor:NOAA.NOS.CO-OPS:8771450:A1   \n",
       "2019-10-14 00:12:00+00:00  urn:ioos:sensor:NOAA.NOS.CO-OPS:8771450:A1   \n",
       "2019-10-14 00:18:00+00:00  urn:ioos:sensor:NOAA.NOS.CO-OPS:8771450:A1   \n",
       "2019-10-14 00:24:00+00:00  urn:ioos:sensor:NOAA.NOS.CO-OPS:8771450:A1   \n",
       "\n",
       "                           latitude (degree)  longitude (degree)  \\\n",
       "date_time                                                          \n",
       "2019-10-14 00:00:00+00:00              29.31            -94.7933   \n",
       "2019-10-14 00:06:00+00:00              29.31            -94.7933   \n",
       "2019-10-14 00:12:00+00:00              29.31            -94.7933   \n",
       "2019-10-14 00:18:00+00:00              29.31            -94.7933   \n",
       "2019-10-14 00:24:00+00:00              29.31            -94.7933   \n",
       "\n",
       "                           water_surface_height_above_reference_datum (m)  \\\n",
       "date_time                                                                   \n",
       "2019-10-14 00:00:00+00:00                                           0.745   \n",
       "2019-10-14 00:06:00+00:00                                           0.741   \n",
       "2019-10-14 00:12:00+00:00                                           0.750   \n",
       "2019-10-14 00:18:00+00:00                                           0.747   \n",
       "2019-10-14 00:24:00+00:00                                           0.747   \n",
       "\n",
       "                                               datum_id  \\\n",
       "date_time                                                 \n",
       "2019-10-14 00:00:00+00:00  urn:ogc:def:datum:epsg::5103   \n",
       "2019-10-14 00:06:00+00:00  urn:ogc:def:datum:epsg::5103   \n",
       "2019-10-14 00:12:00+00:00  urn:ogc:def:datum:epsg::5103   \n",
       "2019-10-14 00:18:00+00:00  urn:ogc:def:datum:epsg::5103   \n",
       "2019-10-14 00:24:00+00:00  urn:ogc:def:datum:epsg::5103   \n",
       "\n",
       "                           vertical_position (m)  sigma quality_flags  \n",
       "date_time                                                              \n",
       "2019-10-14 00:00:00+00:00                  1.379  0.004       1;0;0;0  \n",
       "2019-10-14 00:06:00+00:00                  1.379  0.004       1;0;0;0  \n",
       "2019-10-14 00:12:00+00:00                  1.379  0.005       0;0;0;0  \n",
       "2019-10-14 00:18:00+00:00                  1.379  0.004       1;0;0;0  \n",
       "2019-10-14 00:24:00+00:00                  1.379  0.003       1;0;0;0  "
      ]
     },
     "execution_count": 2,
     "metadata": {},
     "output_type": "execute_result"
    }
   ],
   "source": [
    "import pandas as pd\n",
    "\n",
    "\n",
    "df = pd.read_csv(url, index_col=\"date_time\", parse_dates=True)\n",
    "df.index = df.index.tz_convert(None)\n",
    "df.head()"
   ]
  },
  {
   "cell_type": "code",
   "execution_count": 3,
   "metadata": {
    "slideshow": {
     "slide_type": "slide"
    }
   },
   "outputs": [
    {
     "data": {
      "image/png": "[encoded data removed]",
      "text/plain": [
       "<Figure size 432x288 with 1 Axes>"
      ]
     },
     "metadata": {
      "needs_background": "light"
     },
     "output_type": "display_data"
    }
   ],
   "source": [
    "%matplotlib inline\n",
    "\n",
    "\n",
    "col = df.columns[df.columns.str.startswith(variable)]\n",
    "ax = df[col].plot.line(legend=False)\n",
    "ax.grid(True)\n",
    "ax.set_title(col.values[0]);"
   ]
  },
  {
   "cell_type": "code",
   "execution_count": 4,
   "metadata": {
    "slideshow": {
     "slide_type": "slide"
    }
   },
   "outputs": [
    {
     "data": {
      "text/html": [
       "<div style=\"width:100%;\"><div style=\"position:relative;width:100%;height:0;padding-bottom:60%;\"><iframe src=\"data:text/html;charset=utf-8;base64,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\" style=\"position:absolute;width:100%;height:100%;left:0;top:0;border:none !important;\" allowfullscreen webkitallowfullscreen mozallowfullscreen></iframe></div></div>"
      ],
      "text/plain": [
       "<folium.folium.Map at 0x7fe462a8f160>"
      ]
     },
     "execution_count": 4,
     "metadata": {},
     "output_type": "execute_result"
    }
   ],
   "source": [
    "import folium\n",
    "\n",
    "\n",
    "location = (\n",
    "    df[\"latitude (degree)\"].unique().squeeze(),\n",
    "    df[\"longitude (degree)\"].unique().squeeze()\n",
    ")\n",
    "popup = f\"{df['sensor_id'].unique().squeeze()}\"\n",
    "\n",
    "m = folium.Map(location=location, zoom_start=12)\n",
    "folium.Marker(location=location, popup=popup).add_to(m)\n",
    "\n",
    "m"
   ]
  }
 ],
 "metadata": {
  "celltoolbar": "Slideshow",
  "kernelspec": {
   "display_name": "Python 3",
   "language": "python",
   "name": "python3"
  },
  "language_info": {
   "codemirror_mode": {
    "name": "ipython",
    "version": 3
   },
   "file_extension": ".py",
   "mimetype": "text/x-python",
   "name": "python",
   "nbconvert_exporter": "python",
   "pygments_lexer": "ipython3",
   "version": "3.7.3"
  }
 },
 "nbformat": 4,
 "nbformat_minor": 2
}
